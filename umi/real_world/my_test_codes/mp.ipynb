{
 "cells": [
  {
   "cell_type": "code",
   "execution_count": 3,
   "metadata": {},
   "outputs": [
    {
     "name": "stdout",
     "output_type": "stream",
     "text": [
      "a[10000] , total[10000]\n"
     ]
    }
   ],
   "source": [
    "from multiprocessing import Process, shared_memory\n",
    "import atomics\n",
    "from threading import Thread\n",
    "\n",
    "\n",
    "def fn(ai: atomics.INTEGRAL, n):\n",
    "    for _ in range(n):\n",
    "        ai.inc()\n",
    "\n",
    "a = atomics.atomic(width=4, atype=atomics.INT)\n",
    "total = 10_000\n",
    "# run threads to completion\n",
    "t1 = Thread(target=fn, args=(a, total // 2))\n",
    "t2 = Thread(target=fn, args=(a, total // 2))\n",
    "t1.start(), t2.start()\n",
    "t1.join(), t2.join()\n",
    "print(f\"a[{a.load()}] , total[{total}]\")\n"
   ]
  },
  {
   "cell_type": "code",
   "execution_count": 15,
   "metadata": {},
   "outputs": [
    {
     "name": "stdout",
     "output_type": "stream",
     "text": [
      "<memory at 0x742420a797c0>\n",
      "a[10000] == total[10000]\n"
     ]
    }
   ],
   "source": [
    "import atomics\n",
    "from multiprocessing import Process, shared_memory\n",
    "\n",
    "\n",
    "def fn(shmem_name: str, width: int, n: int) -> None:\n",
    "    shmem = shared_memory.SharedMemory(name=shmem_name)\n",
    "    buf = shmem.buf[:width]\n",
    "    with atomics.atomicview(buffer=buf, atype=atomics.INT) as a:\n",
    "        for _ in range(n):\n",
    "            a.inc()\n",
    "    del buf\n",
    "    shmem.close()\n",
    "\n",
    "\n",
    "\n",
    "# setup\n",
    "width = 4\n",
    "shmem = shared_memory.SharedMemory(create=True, size=width)\n",
    "buf = shmem.buf[:width]\n",
    "print(buf)\n",
    "total = 10_000\n",
    "# run processes to completion\n",
    "p1 = Process(target=fn, args=(shmem.name, width, total // 2))\n",
    "p2 = Process(target=fn, args=(shmem.name, width, total // 2))\n",
    "p1.start(), p2.start()\n",
    "p1.join(), p2.join()\n",
    "# print results and cleanup\n",
    "with atomics.atomicview(buffer=buf, atype=atomics.INT) as a:\n",
    "    print(f\"a[{a.load()}] == total[{total}]\")\n",
    "del buf\n",
    "shmem.close()\n",
    "shmem.unlink()"
   ]
  },
  {
   "cell_type": "code",
   "execution_count": 14,
   "metadata": {},
   "outputs": [
    {
     "name": "stdout",
     "output_type": "stream",
     "text": [
      "AtomicInt(value=0, width=1, readonly=False, signed=True)\n",
      "AtomicInt(value=-128, width=1, readonly=False, signed=True)\n",
      "AtomicBytesView(value=b'\\x00\\x00', width=2, readonly=False)\n"
     ]
    }
   ],
   "source": [
    "import atomics \n",
    "\n",
    "a = atomics.atomic(width=1, atype=atomics.INT)\n",
    "print(a)\n",
    "for _ in range(128):\n",
    "    a.inc()\n",
    "print(a)\n",
    "\n",
    "buf = bytearray(2)\n",
    "with atomics.atomicview(buffer=buf, atype=atomics.BYTES) as a1:\n",
    "    print(a1)  # AtomicBytesView(value=b'\\x00\\x00', width=2, readonly=True)"
   ]
  },
  {
   "cell_type": "code",
   "execution_count": 18,
   "metadata": {},
   "outputs": [
    {
     "name": "stdout",
     "output_type": "stream",
     "text": [
      "<memory at 0x74241b4a0040>\n"
     ]
    }
   ],
   "source": [
    "from multiprocessing.managers import SharedMemoryManager\n",
    "\n",
    "# 创建一个 SharedMemoryManager 实例\n",
    "manager = SharedMemoryManager()\n",
    "\n",
    "# 启动管理器\n",
    "manager.start()\n",
    "\n",
    "# 创建一个大小为 1024 字节的共享内存块\n",
    "shm = manager.SharedMemory(size=1024)\n",
    "\n",
    "# 使用共享内存块\n",
    "buffer = shm.buf\n",
    "print(buffer)\n",
    "\n",
    "# 关闭共享内存块\n",
    "shm.close()\n",
    "\n",
    "# 停止 SharedMemoryManager\n",
    "manager.shutdown()"
   ]
  },
  {
   "cell_type": "code",
   "execution_count": null,
   "metadata": {},
   "outputs": [],
   "source": [
    "from multiprocessing.managers import SharedMemoryManager\n",
    "from multiprocessing import Process\n",
    "\n",
    "def worker(shm_name):\n",
    "    # 通过名称获取共享内存块\n",
    "    shm = shared_memory.SharedMemory(name=shm_name)\n",
    "    buffer = shm.buf\n",
    "    \n",
    "    # 读取共享内存中的数据\n",
    "    data = buffer[:10]\n",
    "    print(f\"Worker read: {data}\")\n",
    "    \n",
    "    # 关闭共享内存块\n",
    "    shm.close()\n",
    "\n",
    "\n",
    "# 创建一个 SharedMemoryManager 实例\n",
    "manager = SharedMemoryManager()\n",
    "    \n",
    "# 启动管理器\n",
    "manager.start()\n",
    "    \n",
    "# 创建一个大小为 1024 字节的共享内存块\n",
    "shm = manager.SharedMemory(size=1024)\n",
    "    \n",
    "# 启动一个新进程\n",
    "p = Process(target=worker, args=(shm.name,))\n",
    "p.start()\n",
    "p.join()\n",
    "    \n",
    "# 关闭共享内存块\n",
    "shm.close()\n",
    "    \n",
    "# 停止 SharedMemoryManager\n",
    "manager.shutdown()"
   ]
  },
  {
   "cell_type": "code",
   "execution_count": 27,
   "metadata": {},
   "outputs": [
    {
     "name": "stdout",
     "output_type": "stream",
     "text": [
      "499500\n",
      "499500\n",
      "999000\n"
     ]
    }
   ],
   "source": [
    "import multiprocessing as mp\n",
    " \n",
    "def job(q):\n",
    "    res=0\n",
    "    for i in range(1000):\n",
    "        res+=i\n",
    "    q.put(res)    #queue\n",
    " \n",
    "if __name__=='__main__':\n",
    "    q = mp.Queue()\n",
    "    p1 = mp.Process(target=job,args=(q,))\n",
    "    p2 = mp.Process(target=job,args=(q,))\n",
    "    p1.start()\n",
    "    p2.start()\n",
    "    p1.join()\n",
    "    p2.join()\n",
    "    res1 = q.get()\n",
    "    print(res1)\n",
    "   \n",
    "    res2 = q.get()\n",
    "    print(res2)\n",
    "    print(res1+res2)"
   ]
  },
  {
   "cell_type": "code",
   "execution_count": 35,
   "metadata": {},
   "outputs": [
    {
     "name": "stdout",
     "output_type": "stream",
     "text": [
      "1\n",
      "2\n",
      "99\n",
      "1\n"
     ]
    }
   ],
   "source": [
    "class MyQueue:\n",
    "    def __init__(self) -> None:\n",
    "        self.queue = list()\n",
    "        \n",
    "    def append(self, x):\n",
    "        self.queue.append(x)\n",
    "        \n",
    "    def popleft(self):\n",
    "        if len(self.queue) != 0:\n",
    "            return self.queue.pop(0)\n",
    "        else:\n",
    "            raise IndexError(\"the queue is empty\")\n",
    "    \n",
    "    @property    \n",
    "    def size(self):\n",
    "        return len(self.queue)\n",
    "    \n",
    "q1 = MyQueue()\n",
    "q1.append(99)\n",
    "print(q1.size)\n",
    "q1.append(98)\n",
    "print(q1.size)\n",
    "print(q1.popleft())\n",
    "print(q1.size)"
   ]
  }
 ],
 "metadata": {
  "kernelspec": {
   "display_name": "umi",
   "language": "python",
   "name": "python3"
  },
  "language_info": {
   "codemirror_mode": {
    "name": "ipython",
    "version": 3
   },
   "file_extension": ".py",
   "mimetype": "text/x-python",
   "name": "python",
   "nbconvert_exporter": "python",
   "pygments_lexer": "ipython3",
   "version": "3.9.18"
  }
 },
 "nbformat": 4,
 "nbformat_minor": 2
}
